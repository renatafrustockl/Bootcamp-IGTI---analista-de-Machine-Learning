{
  "nbformat": 4,
  "nbformat_minor": 0,
  "metadata": {
    "colab": {
      "name": "TRABALHO_PRATICO2_FAM_RENATA.ipynb",
      "provenance": [],
      "collapsed_sections": [],
      "include_colab_link": true
    },
    "kernelspec": {
      "name": "python3",
      "display_name": "Python 3"
    }
  },
  "cells": [
    {
      "cell_type": "markdown",
      "metadata": {
        "id": "view-in-github",
        "colab_type": "text"
      },
      "source": [
        "<a href=\"https://colab.research.google.com/github/renatafrustockl/Bootcamp-IGTI---analista-de-Machine-Learning/blob/main/TRABALHO_PRATICO2_FAM_RENATA.ipynb\" target=\"_parent\"><img src=\"https://colab.research.google.com/assets/colab-badge.svg\" alt=\"Open In Colab\"/></a>"
      ]
    },
    {
      "cell_type": "code",
      "metadata": {
        "id": "EgA8un_263JH"
      },
      "source": [
        "#código para o desafio da disciplina FAM do bootcamp de MLE"
      ],
      "execution_count": null,
      "outputs": []
    },
    {
      "cell_type": "code",
      "metadata": {
        "id": "Ui5_CDE86-3R"
      },
      "source": [
        "import pandas as pd #biblioteca utilizada para trabalhar com dataframes\n",
        "import numpy as np #biblioteca utilizada no tratamento de matrizes e vetores\n",
        "#import seaborn as sn #biblioteca utilizada pra plotar os gráficos em um formato mais \"elegante\"\n",
        "#import matplotlib.pyplot as plt  #biblioteca utilizada para plotar os gráficos"
      ],
      "execution_count": null,
      "outputs": []
    },
    {
      "cell_type": "code",
      "metadata": {
        "id": "vF0aZnRE7NSP"
      },
      "source": [
        "#from google.colab import files  #biblioteca utilizada para carregar os dados para o google colab\n",
        "#uploaded = files.upload()"
      ],
      "execution_count": null,
      "outputs": []
    },
    {
      "cell_type": "code",
      "metadata": {
        "id": "FbmpIVYv7UGW",
        "colab": {
          "base_uri": "https://localhost:8080/",
          "height": 359
        },
        "outputId": "ef291f28-d364-41b0-d37a-d492990d10a6"
      },
      "source": [
        "#df_compart_bikes=pd.read_csv('comp_bikes_mod.csv') #carregamento do df \n",
        "df = pd.read_csv(\"https://pycourse.s3.amazonaws.com/bike-sharing.csv\")\n",
        "df.head(10)  #exibindo as 10 primeiras linhas do df"
      ],
      "execution_count": null,
      "outputs": [
        {
          "output_type": "execute_result",
          "data": {
            "text/html": [
              "<div>\n",
              "<style scoped>\n",
              "    .dataframe tbody tr th:only-of-type {\n",
              "        vertical-align: middle;\n",
              "    }\n",
              "\n",
              "    .dataframe tbody tr th {\n",
              "        vertical-align: top;\n",
              "    }\n",
              "\n",
              "    .dataframe thead th {\n",
              "        text-align: right;\n",
              "    }\n",
              "</style>\n",
              "<table border=\"1\" class=\"dataframe\">\n",
              "  <thead>\n",
              "    <tr style=\"text-align: right;\">\n",
              "      <th></th>\n",
              "      <th>datetime</th>\n",
              "      <th>rec_id</th>\n",
              "      <th>season</th>\n",
              "      <th>year</th>\n",
              "      <th>month</th>\n",
              "      <th>hour</th>\n",
              "      <th>is_holiday</th>\n",
              "      <th>weekday</th>\n",
              "      <th>is_workingday</th>\n",
              "      <th>weather_condition</th>\n",
              "      <th>temp</th>\n",
              "      <th>atemp</th>\n",
              "      <th>humidity</th>\n",
              "      <th>windspeed</th>\n",
              "      <th>casual</th>\n",
              "      <th>registered</th>\n",
              "      <th>total_count</th>\n",
              "    </tr>\n",
              "  </thead>\n",
              "  <tbody>\n",
              "    <tr>\n",
              "      <th>0</th>\n",
              "      <td>2011-01-01</td>\n",
              "      <td>1</td>\n",
              "      <td>1</td>\n",
              "      <td>0</td>\n",
              "      <td>1</td>\n",
              "      <td>0</td>\n",
              "      <td>0</td>\n",
              "      <td>6</td>\n",
              "      <td>0</td>\n",
              "      <td>1</td>\n",
              "      <td>0.24</td>\n",
              "      <td>0.2879</td>\n",
              "      <td>0.81</td>\n",
              "      <td>0.0000</td>\n",
              "      <td>3</td>\n",
              "      <td>13</td>\n",
              "      <td>16</td>\n",
              "    </tr>\n",
              "    <tr>\n",
              "      <th>1</th>\n",
              "      <td>2011-01-01</td>\n",
              "      <td>2</td>\n",
              "      <td>1</td>\n",
              "      <td>0</td>\n",
              "      <td>1</td>\n",
              "      <td>1</td>\n",
              "      <td>0</td>\n",
              "      <td>6</td>\n",
              "      <td>0</td>\n",
              "      <td>1</td>\n",
              "      <td>0.22</td>\n",
              "      <td>0.2727</td>\n",
              "      <td>0.80</td>\n",
              "      <td>0.0000</td>\n",
              "      <td>8</td>\n",
              "      <td>32</td>\n",
              "      <td>40</td>\n",
              "    </tr>\n",
              "    <tr>\n",
              "      <th>2</th>\n",
              "      <td>2011-01-01</td>\n",
              "      <td>3</td>\n",
              "      <td>1</td>\n",
              "      <td>0</td>\n",
              "      <td>1</td>\n",
              "      <td>2</td>\n",
              "      <td>0</td>\n",
              "      <td>6</td>\n",
              "      <td>0</td>\n",
              "      <td>1</td>\n",
              "      <td>0.22</td>\n",
              "      <td>0.2727</td>\n",
              "      <td>0.80</td>\n",
              "      <td>0.0000</td>\n",
              "      <td>5</td>\n",
              "      <td>27</td>\n",
              "      <td>32</td>\n",
              "    </tr>\n",
              "    <tr>\n",
              "      <th>3</th>\n",
              "      <td>2011-01-01</td>\n",
              "      <td>4</td>\n",
              "      <td>1</td>\n",
              "      <td>0</td>\n",
              "      <td>1</td>\n",
              "      <td>3</td>\n",
              "      <td>0</td>\n",
              "      <td>6</td>\n",
              "      <td>0</td>\n",
              "      <td>1</td>\n",
              "      <td>0.24</td>\n",
              "      <td>0.2879</td>\n",
              "      <td>0.75</td>\n",
              "      <td>0.0000</td>\n",
              "      <td>3</td>\n",
              "      <td>10</td>\n",
              "      <td>13</td>\n",
              "    </tr>\n",
              "    <tr>\n",
              "      <th>4</th>\n",
              "      <td>2011-01-01</td>\n",
              "      <td>5</td>\n",
              "      <td>1</td>\n",
              "      <td>0</td>\n",
              "      <td>1</td>\n",
              "      <td>4</td>\n",
              "      <td>0</td>\n",
              "      <td>6</td>\n",
              "      <td>0</td>\n",
              "      <td>1</td>\n",
              "      <td>0.24</td>\n",
              "      <td>0.2879</td>\n",
              "      <td>0.75</td>\n",
              "      <td>0.0000</td>\n",
              "      <td>0</td>\n",
              "      <td>1</td>\n",
              "      <td>1</td>\n",
              "    </tr>\n",
              "    <tr>\n",
              "      <th>5</th>\n",
              "      <td>2011-01-01</td>\n",
              "      <td>6</td>\n",
              "      <td>1</td>\n",
              "      <td>0</td>\n",
              "      <td>1</td>\n",
              "      <td>5</td>\n",
              "      <td>0</td>\n",
              "      <td>6</td>\n",
              "      <td>0</td>\n",
              "      <td>2</td>\n",
              "      <td>0.24</td>\n",
              "      <td>0.2576</td>\n",
              "      <td>0.75</td>\n",
              "      <td>0.0896</td>\n",
              "      <td>0</td>\n",
              "      <td>1</td>\n",
              "      <td>1</td>\n",
              "    </tr>\n",
              "    <tr>\n",
              "      <th>6</th>\n",
              "      <td>2011-01-01</td>\n",
              "      <td>7</td>\n",
              "      <td>1</td>\n",
              "      <td>0</td>\n",
              "      <td>1</td>\n",
              "      <td>6</td>\n",
              "      <td>0</td>\n",
              "      <td>6</td>\n",
              "      <td>0</td>\n",
              "      <td>1</td>\n",
              "      <td>0.22</td>\n",
              "      <td>0.2727</td>\n",
              "      <td>0.80</td>\n",
              "      <td>0.0000</td>\n",
              "      <td>2</td>\n",
              "      <td>0</td>\n",
              "      <td>2</td>\n",
              "    </tr>\n",
              "    <tr>\n",
              "      <th>7</th>\n",
              "      <td>2011-01-01</td>\n",
              "      <td>8</td>\n",
              "      <td>1</td>\n",
              "      <td>0</td>\n",
              "      <td>1</td>\n",
              "      <td>7</td>\n",
              "      <td>0</td>\n",
              "      <td>6</td>\n",
              "      <td>0</td>\n",
              "      <td>1</td>\n",
              "      <td>0.20</td>\n",
              "      <td>0.2576</td>\n",
              "      <td>0.86</td>\n",
              "      <td>0.0000</td>\n",
              "      <td>1</td>\n",
              "      <td>2</td>\n",
              "      <td>3</td>\n",
              "    </tr>\n",
              "    <tr>\n",
              "      <th>8</th>\n",
              "      <td>2011-01-01</td>\n",
              "      <td>9</td>\n",
              "      <td>1</td>\n",
              "      <td>0</td>\n",
              "      <td>1</td>\n",
              "      <td>8</td>\n",
              "      <td>0</td>\n",
              "      <td>6</td>\n",
              "      <td>0</td>\n",
              "      <td>1</td>\n",
              "      <td>0.24</td>\n",
              "      <td>0.2879</td>\n",
              "      <td>0.75</td>\n",
              "      <td>0.0000</td>\n",
              "      <td>1</td>\n",
              "      <td>7</td>\n",
              "      <td>8</td>\n",
              "    </tr>\n",
              "    <tr>\n",
              "      <th>9</th>\n",
              "      <td>2011-01-01</td>\n",
              "      <td>10</td>\n",
              "      <td>1</td>\n",
              "      <td>0</td>\n",
              "      <td>1</td>\n",
              "      <td>9</td>\n",
              "      <td>0</td>\n",
              "      <td>6</td>\n",
              "      <td>0</td>\n",
              "      <td>1</td>\n",
              "      <td>0.32</td>\n",
              "      <td>0.3485</td>\n",
              "      <td>0.76</td>\n",
              "      <td>0.0000</td>\n",
              "      <td>8</td>\n",
              "      <td>6</td>\n",
              "      <td>14</td>\n",
              "    </tr>\n",
              "  </tbody>\n",
              "</table>\n",
              "</div>"
            ],
            "text/plain": [
              "     datetime  rec_id  season  year  ...  windspeed  casual  registered  total_count\n",
              "0  2011-01-01       1       1     0  ...     0.0000       3          13           16\n",
              "1  2011-01-01       2       1     0  ...     0.0000       8          32           40\n",
              "2  2011-01-01       3       1     0  ...     0.0000       5          27           32\n",
              "3  2011-01-01       4       1     0  ...     0.0000       3          10           13\n",
              "4  2011-01-01       5       1     0  ...     0.0000       0           1            1\n",
              "5  2011-01-01       6       1     0  ...     0.0896       0           1            1\n",
              "6  2011-01-01       7       1     0  ...     0.0000       2           0            2\n",
              "7  2011-01-01       8       1     0  ...     0.0000       1           2            3\n",
              "8  2011-01-01       9       1     0  ...     0.0000       1           7            8\n",
              "9  2011-01-01      10       1     0  ...     0.0000       8           6           14\n",
              "\n",
              "[10 rows x 17 columns]"
            ]
          },
          "metadata": {
            "tags": []
          },
          "execution_count": 2
        }
      ]
    },
    {
      "cell_type": "markdown",
      "metadata": {
        "id": "-9PUyaXz8K2D"
      },
      "source": [
        "- instant: identificador da leitura\n",
        "- dteday : data\n",
        "- season : estação (1:inverno, 2:primavera, 3:verão, 4:outono)\n",
        "- yr : ano (0: 2011, 1:2012)\n",
        "- mnth : mês ( 1 to 12)\n",
        "- hr : hora (0 to 23)\n",
        "- holiday : identificador para feriado \n",
        "- weekday : dia da semana\n",
        "- workingday : 1 se é dia de semana e 0 caso contrário.\n",
        "+ condições do tempo :\n",
        "- 1: Ensolarado\n",
        "- 2: Misto entre nuvens e ensolarado\n",
        "- 3: Nevando ou com chuva fraca\n",
        "- 4: Tempestade\n",
        "- temp : temperatura em graus Celsius (medida) - normalizada\n",
        "- atemp: sensação térmica - normalizada\n",
        "- hum: umidade\n",
        "- windspeed: velocidade do vento\n",
        "- casual: número de usuários casuais\n",
        "- registered: número de usuários registrados\n",
        "- cnt: total de bikes alugadas\n",
        "\n"
      ]
    },
    {
      "cell_type": "code",
      "metadata": {
        "id": "DLPTq3mM8GKI",
        "colab": {
          "base_uri": "https://localhost:8080/"
        },
        "outputId": "c0e73cbd-74f3-432f-e744-9b2bf9443332"
      },
      "source": [
        "print('Dimensão do dataframe: {}'.format(df.shape))"
      ],
      "execution_count": null,
      "outputs": [
        {
          "output_type": "stream",
          "text": [
            "Dimensão do dataframe: (17379, 17)\n"
          ],
          "name": "stdout"
        }
      ]
    },
    {
      "cell_type": "code",
      "metadata": {
        "colab": {
          "base_uri": "https://localhost:8080/"
        },
        "id": "ciOmCcqm1vDl",
        "outputId": "276ce637-bbd9-4eb4-bdcb-d8b0fe7d41c5"
      },
      "source": [
        "# Média da coluna windspeed\n",
        "df['windspeed'].describe()"
      ],
      "execution_count": null,
      "outputs": [
        {
          "output_type": "execute_result",
          "data": {
            "text/plain": [
              "count    17379.000000\n",
              "mean         0.190098\n",
              "std          0.122340\n",
              "min          0.000000\n",
              "25%          0.104500\n",
              "50%          0.194000\n",
              "75%          0.253700\n",
              "max          0.850700\n",
              "Name: windspeed, dtype: float64"
            ]
          },
          "metadata": {
            "tags": []
          },
          "execution_count": 6
        }
      ]
    },
    {
      "cell_type": "code",
      "metadata": {
        "id": "swPKuKUDxBxN",
        "colab": {
          "base_uri": "https://localhost:8080/"
        },
        "outputId": "c1b133c0-fe26-4255-a154-60791a0c1417"
      },
      "source": [
        "df.info() #mostra as características do dataset"
      ],
      "execution_count": null,
      "outputs": [
        {
          "output_type": "stream",
          "text": [
            "<class 'pandas.core.frame.DataFrame'>\n",
            "RangeIndex: 17379 entries, 0 to 17378\n",
            "Data columns (total 17 columns):\n",
            " #   Column             Non-Null Count  Dtype  \n",
            "---  ------             --------------  -----  \n",
            " 0   datetime           17379 non-null  object \n",
            " 1   rec_id             17379 non-null  int64  \n",
            " 2   season             17379 non-null  int64  \n",
            " 3   year               17379 non-null  int64  \n",
            " 4   month              17379 non-null  int64  \n",
            " 5   hour               17379 non-null  int64  \n",
            " 6   is_holiday         17379 non-null  int64  \n",
            " 7   weekday            17379 non-null  int64  \n",
            " 8   is_workingday      17379 non-null  int64  \n",
            " 9   weather_condition  17379 non-null  int64  \n",
            " 10  temp               17379 non-null  float64\n",
            " 11  atemp              17379 non-null  float64\n",
            " 12  humidity           17379 non-null  float64\n",
            " 13  windspeed          17379 non-null  float64\n",
            " 14  casual             17379 non-null  int64  \n",
            " 15  registered         17379 non-null  int64  \n",
            " 16  total_count        17379 non-null  int64  \n",
            "dtypes: float64(4), int64(12), object(1)\n",
            "memory usage: 2.3+ MB\n"
          ],
          "name": "stdout"
        }
      ]
    },
    {
      "cell_type": "code",
      "metadata": {
        "id": "3VC_PUbe-6p0",
        "colab": {
          "base_uri": "https://localhost:8080/"
        },
        "outputId": "cc43d32d-0453-4fa0-c555-0a24f09e1e52"
      },
      "source": [
        "print(\"Tipos de dados existentes do dataset: \\n{}\".format(df.dtypes.value_counts()))"
      ],
      "execution_count": null,
      "outputs": [
        {
          "output_type": "stream",
          "text": [
            "Tipos de dados existentes do dataset: \n",
            "int64      12\n",
            "float64     4\n",
            "object      1\n",
            "dtype: int64\n"
          ],
          "name": "stdout"
        }
      ]
    },
    {
      "cell_type": "code",
      "metadata": {
        "id": "D1WcyR-ev1AY",
        "colab": {
          "base_uri": "https://localhost:8080/"
        },
        "outputId": "61763067-0584-4ea7-a60e-d30dfa71c344"
      },
      "source": [
        "print(\"Tipos de dados existentes do dataset: {}\".format(df.dtypes.nunique()))"
      ],
      "execution_count": null,
      "outputs": [
        {
          "output_type": "stream",
          "text": [
            "Tipos de dados existentes do dataset: 3\n"
          ],
          "name": "stdout"
        }
      ]
    },
    {
      "cell_type": "code",
      "metadata": {
        "id": "MR8q_GQr1uxL"
      },
      "source": [
        "#print(\"Proporção de valores nulos para variável 'temp': {}% \".format((len(df['temp'])/df.isnull().sum()[\"temp\"])))"
      ],
      "execution_count": null,
      "outputs": []
    },
    {
      "cell_type": "code",
      "metadata": {
        "id": "64l12o8q4NR9"
      },
      "source": [
        "#len(df['temp'])/df.isnull().sum()[\"temp\"]"
      ],
      "execution_count": null,
      "outputs": []
    },
    {
      "cell_type": "code",
      "metadata": {
        "id": "_uI_iJMA3pab"
      },
      "source": [
        "# Quantos registros de locações existem para o ano de 2011 (número de linhas, número de colunas)?\n",
        "expre_regular = r'^(\\d{4})'   #define a expressão regular que deve ser utilizada para cada uma das datas de publicação (encontra o conjunto de 4 dígitos)\n",
        "extr = df['datetime'].str.extract(expre_regular, expand=False)  #aplica o modelo de extração através da expressão regular definida\n"
      ],
      "execution_count": null,
      "outputs": []
    },
    {
      "cell_type": "code",
      "metadata": {
        "colab": {
          "base_uri": "https://localhost:8080/"
        },
        "id": "uPDHBH_v6TS5",
        "outputId": "68c83d82-9050-4f51-f3cd-5293334b82f6"
      },
      "source": [
        "extr[:1500]"
      ],
      "execution_count": null,
      "outputs": [
        {
          "output_type": "execute_result",
          "data": {
            "text/plain": [
              "0       2011\n",
              "1       2011\n",
              "2       2011\n",
              "3       2011\n",
              "4       2011\n",
              "        ... \n",
              "1495    2011\n",
              "1496    2011\n",
              "1497    2011\n",
              "1498    2011\n",
              "1499    2011\n",
              "Name: datetime, Length: 1500, dtype: object"
            ]
          },
          "metadata": {
            "tags": []
          },
          "execution_count": 19
        }
      ]
    },
    {
      "cell_type": "code",
      "metadata": {
        "id": "XHxfv4DG6o0i"
      },
      "source": [
        "#aplicando ao dataset e convertendo para numérico\n",
        "df['datetime']=pd.to_numeric(extr)"
      ],
      "execution_count": null,
      "outputs": []
    },
    {
      "cell_type": "code",
      "metadata": {
        "colab": {
          "base_uri": "https://localhost:8080/"
        },
        "id": "xiJt6nB-8lni",
        "outputId": "e8429716-c183-44e2-d280-5481433d130b"
      },
      "source": [
        "#NOVO Quantos registros de locações existem para o ano de 2011 (número de linhas, número de colunas)? e 2012?\n",
        "df['datetime'].value_counts()  #conta os valores para cada uma das \"classes\""
      ],
      "execution_count": null,
      "outputs": [
        {
          "output_type": "execute_result",
          "data": {
            "text/plain": [
              "2012    8734\n",
              "2011    8645\n",
              "Name: datetime, dtype: int64"
            ]
          },
          "metadata": {
            "tags": []
          },
          "execution_count": 18
        }
      ]
    },
    {
      "cell_type": "code",
      "metadata": {
        "id": "BxuA1rBU9XvE"
      },
      "source": [
        "#NOVO Quantas locações de bicicletas foram efetuadas em 2011? \n",
        "new_df = df[df[\"datetime\"] == 2011]"
      ],
      "execution_count": null,
      "outputs": []
    },
    {
      "cell_type": "code",
      "metadata": {
        "colab": {
          "base_uri": "https://localhost:8080/"
        },
        "id": "24RfzrgevUqC",
        "outputId": "4341c83a-08af-4d55-e67d-1a9e5d0968e8"
      },
      "source": [
        "# CONTINUAÇÃO Quantas locações de bicicletas foram efetuadas em 2011?\n",
        "new_df['total_count'].sum()"
      ],
      "execution_count": null,
      "outputs": [
        {
          "output_type": "execute_result",
          "data": {
            "text/plain": [
              "1243103"
            ]
          },
          "metadata": {
            "tags": []
          },
          "execution_count": 23
        }
      ]
    },
    {
      "cell_type": "code",
      "metadata": {
        "id": "R0QWfQ9lvlHk"
      },
      "source": [
        "#NOVO Quantas locações de bicicletas foram efetuadas em 2012? \n",
        "new_df1 = df[df[\"datetime\"] == 2012]"
      ],
      "execution_count": null,
      "outputs": []
    },
    {
      "cell_type": "code",
      "metadata": {
        "colab": {
          "base_uri": "https://localhost:8080/"
        },
        "id": "hKtLQvrcvqq_",
        "outputId": "0008784b-7af1-4f2d-94c7-298e7952f631"
      },
      "source": [
        "# CONTINUAÇÃO Quantas locações de bicicletas foram efetuadas em 2012?\n",
        "new_df1['total_count'].sum()"
      ],
      "execution_count": null,
      "outputs": [
        {
          "output_type": "execute_result",
          "data": {
            "text/plain": [
              "2049576"
            ]
          },
          "metadata": {
            "tags": []
          },
          "execution_count": 25
        }
      ]
    },
    {
      "cell_type": "code",
      "metadata": {
        "id": "S-wYj4OF4cY0",
        "colab": {
          "base_uri": "https://localhost:8080/"
        },
        "outputId": "1aed9c41-a603-4615-e479-9b7516de206f"
      },
      "source": [
        "#NOVO 8 - Qual estação do ano contém a MAIOR média de locações de bicicletas?\n",
        "#NOVO 9 - Qual estação do ano contém a MENOR média de locações de bicicletas?\n",
        "#new_df3 = df.groupby(\"total_count\").mean() [\"season\"].sort_values()\n",
        "#new_df3\n",
        "df.groupby(\"season\") [\"total_count\"].mean()\n"
      ],
      "execution_count": null,
      "outputs": [
        {
          "output_type": "execute_result",
          "data": {
            "text/plain": [
              "season\n",
              "1    111.114569\n",
              "2    208.344069\n",
              "3    236.016237\n",
              "4    198.868856\n",
              "Name: total_count, dtype: float64"
            ]
          },
          "metadata": {
            "tags": []
          },
          "execution_count": 55
        }
      ]
    },
    {
      "cell_type": "code",
      "metadata": {
        "colab": {
          "base_uri": "https://localhost:8080/"
        },
        "id": "5hlvwCBfxC22",
        "outputId": "0c5892f8-c0ad-405b-c4a7-cdf854079bc0"
      },
      "source": [
        "#NOVO CONTINUANDO\n",
        "df.info()"
      ],
      "execution_count": null,
      "outputs": [
        {
          "output_type": "stream",
          "text": [
            "<class 'pandas.core.frame.DataFrame'>\n",
            "RangeIndex: 17379 entries, 0 to 17378\n",
            "Data columns (total 17 columns):\n",
            " #   Column             Non-Null Count  Dtype  \n",
            "---  ------             --------------  -----  \n",
            " 0   datetime           17379 non-null  int64  \n",
            " 1   rec_id             17379 non-null  int64  \n",
            " 2   season             17379 non-null  int64  \n",
            " 3   year               17379 non-null  int64  \n",
            " 4   month              17379 non-null  int64  \n",
            " 5   hour               17379 non-null  int64  \n",
            " 6   is_holiday         17379 non-null  int64  \n",
            " 7   weekday            17379 non-null  int64  \n",
            " 8   is_workingday      17379 non-null  int64  \n",
            " 9   weather_condition  17379 non-null  int64  \n",
            " 10  temp               17379 non-null  float64\n",
            " 11  atemp              17379 non-null  float64\n",
            " 12  humidity           17379 non-null  float64\n",
            " 13  windspeed          17379 non-null  float64\n",
            " 14  casual             17379 non-null  int64  \n",
            " 15  registered         17379 non-null  int64  \n",
            " 16  total_count        17379 non-null  int64  \n",
            "dtypes: float64(4), int64(13)\n",
            "memory usage: 2.3 MB\n"
          ],
          "name": "stdout"
        }
      ]
    },
    {
      "cell_type": "code",
      "metadata": {
        "colab": {
          "base_uri": "https://localhost:8080/"
        },
        "id": "vacFkguNxoWa",
        "outputId": "703a259b-9a75-4f1f-f761-73e36269adff"
      },
      "source": [
        "# NOVO 10 - Qual horário do dia contém a MAIOR média de locações de bicicletas?\n",
        "# NOVO 11 - Qual horário do dia contém a MENOR média de locações de bicicletas?\n",
        "df.groupby(\"hour\") [\"total_count\"].mean()"
      ],
      "execution_count": null,
      "outputs": [
        {
          "output_type": "execute_result",
          "data": {
            "text/plain": [
              "hour\n",
              "0      53.898072\n",
              "1      33.375691\n",
              "2      22.869930\n",
              "3      11.727403\n",
              "4       6.352941\n",
              "5      19.889819\n",
              "6      76.044138\n",
              "7     212.064649\n",
              "8     359.011004\n",
              "9     219.309491\n",
              "10    173.668501\n",
              "11    208.143054\n",
              "12    253.315934\n",
              "13    253.661180\n",
              "14    240.949246\n",
              "15    251.233196\n",
              "16    311.983562\n",
              "17    461.452055\n",
              "18    425.510989\n",
              "19    311.523352\n",
              "20    226.030220\n",
              "21    172.314560\n",
              "22    131.335165\n",
              "23     87.831044\n",
              "Name: total_count, dtype: float64"
            ]
          },
          "metadata": {
            "tags": []
          },
          "execution_count": 57
        }
      ]
    },
    {
      "cell_type": "code",
      "metadata": {
        "colab": {
          "base_uri": "https://localhost:8080/"
        },
        "id": "Cz1Awv8KyxOy",
        "outputId": "7c49ee72-c62c-4fd4-8a9b-a58f81da9546"
      },
      "source": [
        "# NOVO 12 - Que dia da semana contém a MAIOR média de locações de bicicletas?\n",
        "# NOVO 13 - Que dia da semana contém a MENOR média de locações de bicicletas?\n",
        "df.groupby(\"weekday\") [\"total_count\"].mean()"
      ],
      "execution_count": null,
      "outputs": [
        {
          "output_type": "execute_result",
          "data": {
            "text/plain": [
              "weekday\n",
              "0    177.468825\n",
              "1    183.744655\n",
              "2    191.238891\n",
              "3    191.130505\n",
              "4    196.436665\n",
              "5    196.135907\n",
              "6    190.209793\n",
              "Name: total_count, dtype: float64"
            ]
          },
          "metadata": {
            "tags": []
          },
          "execution_count": 58
        }
      ]
    },
    {
      "cell_type": "code",
      "metadata": {
        "colab": {
          "base_uri": "https://localhost:8080/",
          "height": 439
        },
        "id": "BQUhHiPcy53b",
        "outputId": "a63a5866-a6a5-49fb-dc13-64f990ca139b"
      },
      "source": [
        "# NOVO 14 - Às quartas-feiras (weekday = 3), qual o horário do dia contém a maior média de locações de bicicletas?\n",
        "new1 = df[df[\"weekday\"] == 3]\n"
      ],
      "execution_count": null,
      "outputs": [
        {
          "output_type": "execute_result",
          "data": {
            "text/html": [
              "<div>\n",
              "<style scoped>\n",
              "    .dataframe tbody tr th:only-of-type {\n",
              "        vertical-align: middle;\n",
              "    }\n",
              "\n",
              "    .dataframe tbody tr th {\n",
              "        vertical-align: top;\n",
              "    }\n",
              "\n",
              "    .dataframe thead th {\n",
              "        text-align: right;\n",
              "    }\n",
              "</style>\n",
              "<table border=\"1\" class=\"dataframe\">\n",
              "  <thead>\n",
              "    <tr style=\"text-align: right;\">\n",
              "      <th></th>\n",
              "      <th>datetime</th>\n",
              "      <th>rec_id</th>\n",
              "      <th>season</th>\n",
              "      <th>year</th>\n",
              "      <th>month</th>\n",
              "      <th>hour</th>\n",
              "      <th>is_holiday</th>\n",
              "      <th>weekday</th>\n",
              "      <th>is_workingday</th>\n",
              "      <th>weather_condition</th>\n",
              "      <th>temp</th>\n",
              "      <th>atemp</th>\n",
              "      <th>humidity</th>\n",
              "      <th>windspeed</th>\n",
              "      <th>casual</th>\n",
              "      <th>registered</th>\n",
              "      <th>total_count</th>\n",
              "    </tr>\n",
              "  </thead>\n",
              "  <tbody>\n",
              "    <tr>\n",
              "      <th>92</th>\n",
              "      <td>2011</td>\n",
              "      <td>93</td>\n",
              "      <td>1</td>\n",
              "      <td>0</td>\n",
              "      <td>1</td>\n",
              "      <td>0</td>\n",
              "      <td>0</td>\n",
              "      <td>3</td>\n",
              "      <td>1</td>\n",
              "      <td>1</td>\n",
              "      <td>0.20</td>\n",
              "      <td>0.2576</td>\n",
              "      <td>0.64</td>\n",
              "      <td>0.0000</td>\n",
              "      <td>0</td>\n",
              "      <td>6</td>\n",
              "      <td>6</td>\n",
              "    </tr>\n",
              "    <tr>\n",
              "      <th>93</th>\n",
              "      <td>2011</td>\n",
              "      <td>94</td>\n",
              "      <td>1</td>\n",
              "      <td>0</td>\n",
              "      <td>1</td>\n",
              "      <td>1</td>\n",
              "      <td>0</td>\n",
              "      <td>3</td>\n",
              "      <td>1</td>\n",
              "      <td>1</td>\n",
              "      <td>0.16</td>\n",
              "      <td>0.1970</td>\n",
              "      <td>0.74</td>\n",
              "      <td>0.0896</td>\n",
              "      <td>0</td>\n",
              "      <td>6</td>\n",
              "      <td>6</td>\n",
              "    </tr>\n",
              "    <tr>\n",
              "      <th>94</th>\n",
              "      <td>2011</td>\n",
              "      <td>95</td>\n",
              "      <td>1</td>\n",
              "      <td>0</td>\n",
              "      <td>1</td>\n",
              "      <td>2</td>\n",
              "      <td>0</td>\n",
              "      <td>3</td>\n",
              "      <td>1</td>\n",
              "      <td>1</td>\n",
              "      <td>0.16</td>\n",
              "      <td>0.1970</td>\n",
              "      <td>0.74</td>\n",
              "      <td>0.0896</td>\n",
              "      <td>0</td>\n",
              "      <td>2</td>\n",
              "      <td>2</td>\n",
              "    </tr>\n",
              "    <tr>\n",
              "      <th>95</th>\n",
              "      <td>2011</td>\n",
              "      <td>96</td>\n",
              "      <td>1</td>\n",
              "      <td>0</td>\n",
              "      <td>1</td>\n",
              "      <td>4</td>\n",
              "      <td>0</td>\n",
              "      <td>3</td>\n",
              "      <td>1</td>\n",
              "      <td>1</td>\n",
              "      <td>0.24</td>\n",
              "      <td>0.2273</td>\n",
              "      <td>0.48</td>\n",
              "      <td>0.2239</td>\n",
              "      <td>0</td>\n",
              "      <td>2</td>\n",
              "      <td>2</td>\n",
              "    </tr>\n",
              "    <tr>\n",
              "      <th>96</th>\n",
              "      <td>2011</td>\n",
              "      <td>97</td>\n",
              "      <td>1</td>\n",
              "      <td>0</td>\n",
              "      <td>1</td>\n",
              "      <td>5</td>\n",
              "      <td>0</td>\n",
              "      <td>3</td>\n",
              "      <td>1</td>\n",
              "      <td>1</td>\n",
              "      <td>0.22</td>\n",
              "      <td>0.2273</td>\n",
              "      <td>0.47</td>\n",
              "      <td>0.1642</td>\n",
              "      <td>0</td>\n",
              "      <td>3</td>\n",
              "      <td>3</td>\n",
              "    </tr>\n",
              "    <tr>\n",
              "      <th>...</th>\n",
              "      <td>...</td>\n",
              "      <td>...</td>\n",
              "      <td>...</td>\n",
              "      <td>...</td>\n",
              "      <td>...</td>\n",
              "      <td>...</td>\n",
              "      <td>...</td>\n",
              "      <td>...</td>\n",
              "      <td>...</td>\n",
              "      <td>...</td>\n",
              "      <td>...</td>\n",
              "      <td>...</td>\n",
              "      <td>...</td>\n",
              "      <td>...</td>\n",
              "      <td>...</td>\n",
              "      <td>...</td>\n",
              "      <td>...</td>\n",
              "    </tr>\n",
              "    <tr>\n",
              "      <th>17254</th>\n",
              "      <td>2012</td>\n",
              "      <td>17255</td>\n",
              "      <td>1</td>\n",
              "      <td>1</td>\n",
              "      <td>12</td>\n",
              "      <td>19</td>\n",
              "      <td>0</td>\n",
              "      <td>3</td>\n",
              "      <td>1</td>\n",
              "      <td>3</td>\n",
              "      <td>0.30</td>\n",
              "      <td>0.2879</td>\n",
              "      <td>0.87</td>\n",
              "      <td>0.1940</td>\n",
              "      <td>2</td>\n",
              "      <td>33</td>\n",
              "      <td>35</td>\n",
              "    </tr>\n",
              "    <tr>\n",
              "      <th>17255</th>\n",
              "      <td>2012</td>\n",
              "      <td>17256</td>\n",
              "      <td>1</td>\n",
              "      <td>1</td>\n",
              "      <td>12</td>\n",
              "      <td>20</td>\n",
              "      <td>0</td>\n",
              "      <td>3</td>\n",
              "      <td>1</td>\n",
              "      <td>3</td>\n",
              "      <td>0.32</td>\n",
              "      <td>0.3030</td>\n",
              "      <td>0.93</td>\n",
              "      <td>0.2537</td>\n",
              "      <td>0</td>\n",
              "      <td>32</td>\n",
              "      <td>32</td>\n",
              "    </tr>\n",
              "    <tr>\n",
              "      <th>17256</th>\n",
              "      <td>2012</td>\n",
              "      <td>17257</td>\n",
              "      <td>1</td>\n",
              "      <td>1</td>\n",
              "      <td>12</td>\n",
              "      <td>21</td>\n",
              "      <td>0</td>\n",
              "      <td>3</td>\n",
              "      <td>1</td>\n",
              "      <td>2</td>\n",
              "      <td>0.30</td>\n",
              "      <td>0.2727</td>\n",
              "      <td>0.87</td>\n",
              "      <td>0.2985</td>\n",
              "      <td>0</td>\n",
              "      <td>20</td>\n",
              "      <td>20</td>\n",
              "    </tr>\n",
              "    <tr>\n",
              "      <th>17257</th>\n",
              "      <td>2012</td>\n",
              "      <td>17258</td>\n",
              "      <td>1</td>\n",
              "      <td>1</td>\n",
              "      <td>12</td>\n",
              "      <td>22</td>\n",
              "      <td>0</td>\n",
              "      <td>3</td>\n",
              "      <td>1</td>\n",
              "      <td>3</td>\n",
              "      <td>0.24</td>\n",
              "      <td>0.1970</td>\n",
              "      <td>0.93</td>\n",
              "      <td>0.4478</td>\n",
              "      <td>0</td>\n",
              "      <td>11</td>\n",
              "      <td>11</td>\n",
              "    </tr>\n",
              "    <tr>\n",
              "      <th>17258</th>\n",
              "      <td>2012</td>\n",
              "      <td>17259</td>\n",
              "      <td>1</td>\n",
              "      <td>1</td>\n",
              "      <td>12</td>\n",
              "      <td>23</td>\n",
              "      <td>0</td>\n",
              "      <td>3</td>\n",
              "      <td>1</td>\n",
              "      <td>3</td>\n",
              "      <td>0.26</td>\n",
              "      <td>0.2273</td>\n",
              "      <td>0.87</td>\n",
              "      <td>0.2985</td>\n",
              "      <td>2</td>\n",
              "      <td>8</td>\n",
              "      <td>10</td>\n",
              "    </tr>\n",
              "  </tbody>\n",
              "</table>\n",
              "<p>2475 rows × 17 columns</p>\n",
              "</div>"
            ],
            "text/plain": [
              "       datetime  rec_id  season  ...  casual  registered  total_count\n",
              "92         2011      93       1  ...       0           6            6\n",
              "93         2011      94       1  ...       0           6            6\n",
              "94         2011      95       1  ...       0           2            2\n",
              "95         2011      96       1  ...       0           2            2\n",
              "96         2011      97       1  ...       0           3            3\n",
              "...         ...     ...     ...  ...     ...         ...          ...\n",
              "17254      2012   17255       1  ...       2          33           35\n",
              "17255      2012   17256       1  ...       0          32           32\n",
              "17256      2012   17257       1  ...       0          20           20\n",
              "17257      2012   17258       1  ...       0          11           11\n",
              "17258      2012   17259       1  ...       2           8           10\n",
              "\n",
              "[2475 rows x 17 columns]"
            ]
          },
          "metadata": {
            "tags": []
          },
          "execution_count": 84
        }
      ]
    },
    {
      "cell_type": "code",
      "metadata": {
        "colab": {
          "base_uri": "https://localhost:8080/"
        },
        "id": "ER2zBbJh8MxG",
        "outputId": "a65312dc-67f9-4b65-f899-f1bebb444111"
      },
      "source": [
        "# NOVO CONINUAÇÃO QUESTÃO 14\n",
        "new1.groupby(\"hour\")[\"total_count\"].mean()\n"
      ],
      "execution_count": null,
      "outputs": [
        {
          "output_type": "execute_result",
          "data": {
            "text/plain": [
              "hour\n",
              "0      94.304762\n",
              "1      67.780952\n",
              "2      50.495238\n",
              "3      22.885714\n",
              "4       7.657143\n",
              "5       8.291262\n",
              "6      21.000000\n",
              "7      45.961905\n",
              "8     114.476190\n",
              "9     186.790476\n",
              "10    263.723810\n",
              "11    328.609524\n",
              "12    375.380952\n",
              "13    385.371429\n",
              "14    381.333333\n",
              "15    382.428571\n",
              "16    366.142857\n",
              "17    334.409524\n",
              "18    292.048077\n",
              "19    239.932692\n",
              "20    180.865385\n",
              "21    156.000000\n",
              "22    139.663462\n",
              "23    115.855769\n",
              "Name: total_count, dtype: float64"
            ]
          },
          "metadata": {
            "tags": []
          },
          "execution_count": 83
        }
      ]
    },
    {
      "cell_type": "code",
      "metadata": {
        "colab": {
          "base_uri": "https://localhost:8080/",
          "height": 439
        },
        "id": "qG3kXYuN9MBj",
        "outputId": "aecaa9c4-fbb4-481d-8d6b-6037f84a414f"
      },
      "source": [
        "#NOVO CONTINUAÇÃO QUESTÃO 14\n",
        "new1"
      ],
      "execution_count": null,
      "outputs": [
        {
          "output_type": "execute_result",
          "data": {
            "text/html": [
              "<div>\n",
              "<style scoped>\n",
              "    .dataframe tbody tr th:only-of-type {\n",
              "        vertical-align: middle;\n",
              "    }\n",
              "\n",
              "    .dataframe tbody tr th {\n",
              "        vertical-align: top;\n",
              "    }\n",
              "\n",
              "    .dataframe thead th {\n",
              "        text-align: right;\n",
              "    }\n",
              "</style>\n",
              "<table border=\"1\" class=\"dataframe\">\n",
              "  <thead>\n",
              "    <tr style=\"text-align: right;\">\n",
              "      <th></th>\n",
              "      <th>datetime</th>\n",
              "      <th>rec_id</th>\n",
              "      <th>season</th>\n",
              "      <th>year</th>\n",
              "      <th>month</th>\n",
              "      <th>hour</th>\n",
              "      <th>is_holiday</th>\n",
              "      <th>weekday</th>\n",
              "      <th>is_workingday</th>\n",
              "      <th>weather_condition</th>\n",
              "      <th>temp</th>\n",
              "      <th>atemp</th>\n",
              "      <th>humidity</th>\n",
              "      <th>windspeed</th>\n",
              "      <th>casual</th>\n",
              "      <th>registered</th>\n",
              "      <th>total_count</th>\n",
              "    </tr>\n",
              "  </thead>\n",
              "  <tbody>\n",
              "    <tr>\n",
              "      <th>92</th>\n",
              "      <td>2011</td>\n",
              "      <td>93</td>\n",
              "      <td>1</td>\n",
              "      <td>0</td>\n",
              "      <td>1</td>\n",
              "      <td>0</td>\n",
              "      <td>0</td>\n",
              "      <td>3</td>\n",
              "      <td>1</td>\n",
              "      <td>1</td>\n",
              "      <td>0.20</td>\n",
              "      <td>0.2576</td>\n",
              "      <td>0.64</td>\n",
              "      <td>0.0000</td>\n",
              "      <td>0</td>\n",
              "      <td>6</td>\n",
              "      <td>6</td>\n",
              "    </tr>\n",
              "    <tr>\n",
              "      <th>93</th>\n",
              "      <td>2011</td>\n",
              "      <td>94</td>\n",
              "      <td>1</td>\n",
              "      <td>0</td>\n",
              "      <td>1</td>\n",
              "      <td>1</td>\n",
              "      <td>0</td>\n",
              "      <td>3</td>\n",
              "      <td>1</td>\n",
              "      <td>1</td>\n",
              "      <td>0.16</td>\n",
              "      <td>0.1970</td>\n",
              "      <td>0.74</td>\n",
              "      <td>0.0896</td>\n",
              "      <td>0</td>\n",
              "      <td>6</td>\n",
              "      <td>6</td>\n",
              "    </tr>\n",
              "    <tr>\n",
              "      <th>94</th>\n",
              "      <td>2011</td>\n",
              "      <td>95</td>\n",
              "      <td>1</td>\n",
              "      <td>0</td>\n",
              "      <td>1</td>\n",
              "      <td>2</td>\n",
              "      <td>0</td>\n",
              "      <td>3</td>\n",
              "      <td>1</td>\n",
              "      <td>1</td>\n",
              "      <td>0.16</td>\n",
              "      <td>0.1970</td>\n",
              "      <td>0.74</td>\n",
              "      <td>0.0896</td>\n",
              "      <td>0</td>\n",
              "      <td>2</td>\n",
              "      <td>2</td>\n",
              "    </tr>\n",
              "    <tr>\n",
              "      <th>95</th>\n",
              "      <td>2011</td>\n",
              "      <td>96</td>\n",
              "      <td>1</td>\n",
              "      <td>0</td>\n",
              "      <td>1</td>\n",
              "      <td>4</td>\n",
              "      <td>0</td>\n",
              "      <td>3</td>\n",
              "      <td>1</td>\n",
              "      <td>1</td>\n",
              "      <td>0.24</td>\n",
              "      <td>0.2273</td>\n",
              "      <td>0.48</td>\n",
              "      <td>0.2239</td>\n",
              "      <td>0</td>\n",
              "      <td>2</td>\n",
              "      <td>2</td>\n",
              "    </tr>\n",
              "    <tr>\n",
              "      <th>96</th>\n",
              "      <td>2011</td>\n",
              "      <td>97</td>\n",
              "      <td>1</td>\n",
              "      <td>0</td>\n",
              "      <td>1</td>\n",
              "      <td>5</td>\n",
              "      <td>0</td>\n",
              "      <td>3</td>\n",
              "      <td>1</td>\n",
              "      <td>1</td>\n",
              "      <td>0.22</td>\n",
              "      <td>0.2273</td>\n",
              "      <td>0.47</td>\n",
              "      <td>0.1642</td>\n",
              "      <td>0</td>\n",
              "      <td>3</td>\n",
              "      <td>3</td>\n",
              "    </tr>\n",
              "    <tr>\n",
              "      <th>...</th>\n",
              "      <td>...</td>\n",
              "      <td>...</td>\n",
              "      <td>...</td>\n",
              "      <td>...</td>\n",
              "      <td>...</td>\n",
              "      <td>...</td>\n",
              "      <td>...</td>\n",
              "      <td>...</td>\n",
              "      <td>...</td>\n",
              "      <td>...</td>\n",
              "      <td>...</td>\n",
              "      <td>...</td>\n",
              "      <td>...</td>\n",
              "      <td>...</td>\n",
              "      <td>...</td>\n",
              "      <td>...</td>\n",
              "      <td>...</td>\n",
              "    </tr>\n",
              "    <tr>\n",
              "      <th>17254</th>\n",
              "      <td>2012</td>\n",
              "      <td>17255</td>\n",
              "      <td>1</td>\n",
              "      <td>1</td>\n",
              "      <td>12</td>\n",
              "      <td>19</td>\n",
              "      <td>0</td>\n",
              "      <td>3</td>\n",
              "      <td>1</td>\n",
              "      <td>3</td>\n",
              "      <td>0.30</td>\n",
              "      <td>0.2879</td>\n",
              "      <td>0.87</td>\n",
              "      <td>0.1940</td>\n",
              "      <td>2</td>\n",
              "      <td>33</td>\n",
              "      <td>35</td>\n",
              "    </tr>\n",
              "    <tr>\n",
              "      <th>17255</th>\n",
              "      <td>2012</td>\n",
              "      <td>17256</td>\n",
              "      <td>1</td>\n",
              "      <td>1</td>\n",
              "      <td>12</td>\n",
              "      <td>20</td>\n",
              "      <td>0</td>\n",
              "      <td>3</td>\n",
              "      <td>1</td>\n",
              "      <td>3</td>\n",
              "      <td>0.32</td>\n",
              "      <td>0.3030</td>\n",
              "      <td>0.93</td>\n",
              "      <td>0.2537</td>\n",
              "      <td>0</td>\n",
              "      <td>32</td>\n",
              "      <td>32</td>\n",
              "    </tr>\n",
              "    <tr>\n",
              "      <th>17256</th>\n",
              "      <td>2012</td>\n",
              "      <td>17257</td>\n",
              "      <td>1</td>\n",
              "      <td>1</td>\n",
              "      <td>12</td>\n",
              "      <td>21</td>\n",
              "      <td>0</td>\n",
              "      <td>3</td>\n",
              "      <td>1</td>\n",
              "      <td>2</td>\n",
              "      <td>0.30</td>\n",
              "      <td>0.2727</td>\n",
              "      <td>0.87</td>\n",
              "      <td>0.2985</td>\n",
              "      <td>0</td>\n",
              "      <td>20</td>\n",
              "      <td>20</td>\n",
              "    </tr>\n",
              "    <tr>\n",
              "      <th>17257</th>\n",
              "      <td>2012</td>\n",
              "      <td>17258</td>\n",
              "      <td>1</td>\n",
              "      <td>1</td>\n",
              "      <td>12</td>\n",
              "      <td>22</td>\n",
              "      <td>0</td>\n",
              "      <td>3</td>\n",
              "      <td>1</td>\n",
              "      <td>3</td>\n",
              "      <td>0.24</td>\n",
              "      <td>0.1970</td>\n",
              "      <td>0.93</td>\n",
              "      <td>0.4478</td>\n",
              "      <td>0</td>\n",
              "      <td>11</td>\n",
              "      <td>11</td>\n",
              "    </tr>\n",
              "    <tr>\n",
              "      <th>17258</th>\n",
              "      <td>2012</td>\n",
              "      <td>17259</td>\n",
              "      <td>1</td>\n",
              "      <td>1</td>\n",
              "      <td>12</td>\n",
              "      <td>23</td>\n",
              "      <td>0</td>\n",
              "      <td>3</td>\n",
              "      <td>1</td>\n",
              "      <td>3</td>\n",
              "      <td>0.26</td>\n",
              "      <td>0.2273</td>\n",
              "      <td>0.87</td>\n",
              "      <td>0.2985</td>\n",
              "      <td>2</td>\n",
              "      <td>8</td>\n",
              "      <td>10</td>\n",
              "    </tr>\n",
              "  </tbody>\n",
              "</table>\n",
              "<p>2475 rows × 17 columns</p>\n",
              "</div>"
            ],
            "text/plain": [
              "       datetime  rec_id  season  ...  casual  registered  total_count\n",
              "92         2011      93       1  ...       0           6            6\n",
              "93         2011      94       1  ...       0           6            6\n",
              "94         2011      95       1  ...       0           2            2\n",
              "95         2011      96       1  ...       0           2            2\n",
              "96         2011      97       1  ...       0           3            3\n",
              "...         ...     ...     ...  ...     ...         ...          ...\n",
              "17254      2012   17255       1  ...       2          33           35\n",
              "17255      2012   17256       1  ...       0          32           32\n",
              "17256      2012   17257       1  ...       0          20           20\n",
              "17257      2012   17258       1  ...       0          11           11\n",
              "17258      2012   17259       1  ...       2           8           10\n",
              "\n",
              "[2475 rows x 17 columns]"
            ]
          },
          "metadata": {
            "tags": []
          },
          "execution_count": 85
        }
      ]
    },
    {
      "cell_type": "code",
      "metadata": {
        "colab": {
          "base_uri": "https://localhost:8080/"
        },
        "id": "UZ7Q94nL9c4h",
        "outputId": "adfb037d-4edf-4b4d-941f-9cf3a61bc393"
      },
      "source": [
        "# NOVO 15 - Aos sábados (weekday = 6), qual o horário do dia contém a maior média de locações de bicicletas?\n",
        "new1 = df[df[\"weekday\"] == 6]\n",
        "new_df = new1.groupby(\"hour\") [\"total_count\"].mean()\n",
        "new_df.sort_values()"
      ],
      "execution_count": null,
      "outputs": [
        {
          "output_type": "execute_result",
          "data": {
            "text/plain": [
              "hour\n",
              "4       7.657143\n",
              "5       8.291262\n",
              "6      21.000000\n",
              "3      22.885714\n",
              "7      45.961905\n",
              "2      50.495238\n",
              "1      67.780952\n",
              "0      94.304762\n",
              "8     114.476190\n",
              "23    115.855769\n",
              "22    139.663462\n",
              "21    156.000000\n",
              "20    180.865385\n",
              "9     186.790476\n",
              "19    239.932692\n",
              "10    263.723810\n",
              "18    292.048077\n",
              "11    328.609524\n",
              "17    334.409524\n",
              "16    366.142857\n",
              "12    375.380952\n",
              "14    381.333333\n",
              "15    382.428571\n",
              "13    385.371429\n",
              "Name: total_count, dtype: float64"
            ]
          },
          "metadata": {
            "tags": []
          },
          "execution_count": 81
        }
      ]
    }
  ]
}